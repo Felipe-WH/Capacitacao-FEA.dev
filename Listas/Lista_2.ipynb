{
 "cells": [
  {
   "cell_type": "markdown",
   "id": "19ba480c",
   "metadata": {},
   "source": [
    "# Lista de Exercícios"
   ]
  },
  {
   "cell_type": "markdown",
   "id": "dffd9d9c",
   "metadata": {},
   "source": [
    "1) Crie um array formado de números (de 0 a 10) de tamanho 5 e atribua ele a uma variável chamada \"arr1\""
   ]
  },
  {
   "cell_type": "code",
   "execution_count": 1,
   "id": "9f8eddf9",
   "metadata": {},
   "outputs": [],
   "source": [
    "# Importando Numpy \n",
    "import numpy as np\n",
    "\n",
    "lista1 = [4, 6.9 , 9, 9, 9] # Lista com as notas\n",
    "arr1 = np.array(lista1) # Array com as notas"
   ]
  },
  {
   "cell_type": "markdown",
   "id": "ac6c1fb7",
   "metadata": {},
   "source": [
    "Suponha que os elementos do \"arr1\" são suas notas em uma determinada disciplina da faculdade. Daqui em diante vamos descobrir se você será aprovado(a) ou não."
   ]
  },
  {
   "cell_type": "markdown",
   "id": "fb969d9e",
   "metadata": {},
   "source": [
    "2) Você descobriu que normalmente a professora tira a média simples das notas e que para a aprovação é necessária uma nota acima de 5. Com isso em mente, encontre a sua média e printe o resultado."
   ]
  },
  {
   "cell_type": "code",
   "execution_count": 2,
   "id": "b321b331",
   "metadata": {},
   "outputs": [
    {
     "name": "stdout",
     "output_type": "stream",
     "text": [
      "7.58\n"
     ]
    }
   ],
   "source": [
    "# Calculando a média do Array\n",
    "mean = np.mean(arr1)\n",
    "print(mean)"
   ]
  },
  {
   "cell_type": "markdown",
   "id": "3c5cb2bd",
   "metadata": {},
   "source": [
    "3) Após ter o resultado inicial na 2), você descobre que a professora decidiu alterar o método nesse semestre e a sua média será feita de uma forma diferente. Ela anunciou que para a aprovação é necessário que ao menos 3 das 5 notas tenham sido acima de 5 e que, dentre essas notas, ao menos uma tenha o valor maior ou igual a 7."
   ]
  },
  {
   "cell_type": "markdown",
   "id": "568114da",
   "metadata": {},
   "source": [
    "a) Retorne a quantidade de notas acima de 5"
   ]
  },
  {
   "cell_type": "code",
   "execution_count": 3,
   "id": "7ffc14f2",
   "metadata": {},
   "outputs": [
    {
     "name": "stdout",
     "output_type": "stream",
     "text": [
      "4\n"
     ]
    }
   ],
   "source": [
    "# Nova variável com o tamanho do array com apenas notas maiores ou iguais a 5\n",
    "maior5 = len(arr1[arr1>=5])\n",
    "print(maior5)"
   ]
  },
  {
   "cell_type": "markdown",
   "id": "307f91a7",
   "metadata": {},
   "source": [
    "b) Caso na a) o valor seja maior ou igual a 3, crie um novo array com esses números e descubra o resultado da aprovação"
   ]
  },
  {
   "cell_type": "code",
   "execution_count": 4,
   "id": "c5d7def2",
   "metadata": {},
   "outputs": [
    {
     "name": "stdout",
     "output_type": "stream",
     "text": [
      "APROVADO\n"
     ]
    }
   ],
   "source": [
    "# Devem haver pelo menos 3 notas maiores que 5\n",
    "if maior5 >= 3:\n",
    "    # Pelo menos uma dessas notas deve ser maior que 7\n",
    "    maior7 = len(arr1[arr1 >= 7])\n",
    "    if maior7 >= 1:\n",
    "        print('APROVADO')\n",
    "    else:\n",
    "        print('REPROVADO')\n",
    "else:\n",
    "    print('REPROVADO')"
   ]
  },
  {
   "cell_type": "markdown",
   "id": "b7f89b59",
   "metadata": {},
   "source": [
    "c) Caso na a) o valor seja menor do que 3, crie um novo array com esses números, e descubra se você conseguirá fazer a reaval (para isso é necessário que, dentre essas notas menores do que 5, a sua média tenha sido ao menos 3)"
   ]
  },
  {
   "cell_type": "code",
   "execution_count": 5,
   "id": "ce2b1db4",
   "metadata": {},
   "outputs": [],
   "source": [
    "#### Foi maior que 3"
   ]
  },
  {
   "cell_type": "markdown",
   "id": "922f9b48",
   "metadata": {},
   "source": [
    "4) Dada a facilidade de se mexer com as notas usando Numpy você decidiu criar novos arrays com suas notas em outras matérias. Crie 2 novos arrays com as mesmas características do que o \"arr1\""
   ]
  },
  {
   "cell_type": "code",
   "execution_count": 6,
   "id": "1aa591e9",
   "metadata": {},
   "outputs": [],
   "source": [
    "# Criando novos arrays\n",
    "arr2 = np.array([10, 10, 10, 10, 10])\n",
    "arr3 = np.array([0, 2, 4, 6, 8])"
   ]
  },
  {
   "cell_type": "markdown",
   "id": "258cbb31",
   "metadata": {},
   "source": [
    "5) a)Transforme os 3 arrays em um único array, de tamanho (3,5)"
   ]
  },
  {
   "cell_type": "code",
   "execution_count": 7,
   "id": "bd74fe1e",
   "metadata": {},
   "outputs": [
    {
     "name": "stdout",
     "output_type": "stream",
     "text": [
      "[[ 4.   6.9  9.   9.   9. ]\n",
      " [10.  10.  10.  10.  10. ]\n",
      " [ 0.   2.   4.   6.   8. ]]\n"
     ]
    }
   ],
   "source": [
    "# Juntando os arrays\n",
    "arr4 = np.array([arr1,\n",
    "       arr2,\n",
    "       arr3])\n",
    "print(arr4)"
   ]
  },
  {
   "cell_type": "markdown",
   "id": "52c7d47e",
   "metadata": {},
   "source": [
    "b) Mude o formato de a) para (5,3)"
   ]
  },
  {
   "cell_type": "code",
   "execution_count": 8,
   "id": "35b52574",
   "metadata": {},
   "outputs": [
    {
     "name": "stdout",
     "output_type": "stream",
     "text": [
      "[[ 4.  10.   0. ]\n",
      " [ 6.9 10.   2. ]\n",
      " [ 9.  10.   4. ]\n",
      " [ 9.  10.   6. ]\n",
      " [ 9.  10.   8. ]]\n"
     ]
    }
   ],
   "source": [
    "# Transpondo o array\n",
    "arr_t = np.transpose(arr4)\n",
    "print(arr_t)"
   ]
  },
  {
   "cell_type": "markdown",
   "id": "4e7b35a8",
   "metadata": {},
   "source": [
    "6) A lista inf_anual tem os dados da inflação anual dos últimos anos (2012,2020) no Brasil (IPCA), crie um array chamado \"inflacao_br\" com os dados da lista\n"
   ]
  },
  {
   "cell_type": "code",
   "execution_count": 9,
   "id": "2fd89475",
   "metadata": {},
   "outputs": [
    {
     "name": "stdout",
     "output_type": "stream",
     "text": [
      "[ 5.84  5.91  6.41 10.67  6.29  2.95  3.75  4.31  4.52]\n"
     ]
    }
   ],
   "source": [
    "inf_anual = [5.84,5.91,6.41,10.67,6.29,2.95,3.75,4.31,4.52]\n",
    "# Criando Array\n",
    "inflacao_br = np.array(inf_anual)\n",
    "print(inflacao_br)"
   ]
  },
  {
   "cell_type": "markdown",
   "id": "e0c17d7f",
   "metadata": {},
   "source": [
    "7) Suponha que a meta da inflação ficou constante em 4.5 ao longo desses anos, com uma tolerância de 1.5 para mais ou para menos. Descubra em quais anos o número ficou fora dessa tolerância e retorne um array com 1 se isso é verdade, e 0 caso contrário."
   ]
  },
  {
   "cell_type": "code",
   "execution_count": 10,
   "id": "acdce620",
   "metadata": {},
   "outputs": [
    {
     "name": "stdout",
     "output_type": "stream",
     "text": [
      "[0 0 1 1 1 1 0 0 0]\n"
     ]
    }
   ],
   "source": [
    "# Criando array com booleanos\n",
    "fora_da_meta = np.logical_or(inflacao_br < 3, inflacao_br > 6)\n",
    "# Convertendo para binário\n",
    "fora_da_meta = fora_da_meta.astype(int)\n",
    "print(fora_da_meta)"
   ]
  },
  {
   "cell_type": "markdown",
   "id": "acb34520",
   "metadata": {},
   "source": [
    "8) Plote um gráfico que mostre a evolução anual da inflação, use os anos para o eixo x e a inflação ao eixo y. Nomeie o eixo x como anos e y IPCA, coloque uma cor laranja à reta de inflação."
   ]
  },
  {
   "cell_type": "code",
   "execution_count": 11,
   "id": "34e46b9e",
   "metadata": {},
   "outputs": [
    {
     "data": {
      "image/png": "[encoded data removed]",
      "text/plain": [
       "<Figure size 432x288 with 1 Axes>"
      ]
     },
     "metadata": {
      "needs_background": "light"
     },
     "output_type": "display_data"
    }
   ],
   "source": [
    "# Importando matplotlib\n",
    "import matplotlib.pyplot as plt\n",
    "\n",
    "# Criando gráfico de linha\n",
    "plt.plot(range(2012,2021), inf_anual)\n",
    "# Definindo eixos\n",
    "plt.xlabel('Ano')\n",
    "plt.ylabel('Inflação Anual (%)')\n",
    "\n",
    "plt.show()"
   ]
  },
  {
   "cell_type": "markdown",
   "id": "4bcd39e8",
   "metadata": {},
   "source": [
    "b) Descreva o comportamento do gráfico."
   ]
  },
  {
   "cell_type": "markdown",
   "id": "e474fba1",
   "metadata": {},
   "source": [
    "A inflação se mantém próxima da meta até 2014, quando a passa a ter uma tendência de alta, chegando próxima dos 11% em 2015.\n",
    "Após isso, há uma tendência de baixa que dura até 2017 quando a inflação chega a sua mínima de 2,95%, tendo uma fraca elevação até 2020 quando marcava 4,52%."
   ]
  }
 ],
 "metadata": {
  "kernelspec": {
   "display_name": "Python 3 (ipykernel)",
   "language": "python",
   "name": "python3"
  },
  "language_info": {
   "codemirror_mode": {
    "name": "ipython",
    "version": 3
   },
   "file_extension": ".py",
   "mimetype": "text/x-python",
   "name": "python",
   "nbconvert_exporter": "python",
   "pygments_lexer": "ipython3",
   "version": "3.9.7"
  }
 },
 "nbformat": 4,
 "nbformat_minor": 5
}
